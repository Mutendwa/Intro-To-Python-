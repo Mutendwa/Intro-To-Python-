{
 "cells": [
  {
   "cell_type": "code",
   "execution_count": 1,
   "id": "2198220b",
   "metadata": {},
   "outputs": [
    {
     "name": "stdout",
     "output_type": "stream",
     "text": [
      "Please input enter your name: Edu\n",
      "Please enter your age: 25\n",
      "Please enter your location: congo\n",
      "Hello Edu, you are 25 years old and live in congo.\n"
     ]
    }
   ],
   "source": [
    "#Use the input() function to ask the user for their name and store it in a variable called \"name\".\n",
    "name= input(\"Please input enter your name: \")\n",
    "#Use the input() function to ask the user for their age and store it in a variable called \"age\".\n",
    "age = input(\"Please enter your age: \")\n",
    "\n",
    "#Use the input() function to ask the user for their location and store it in a variable called \"location\".\n",
    "location = input(\"Please enter your location: \")\n",
    "\n",
    "#Print out a personalized message using the user's name, age, and location. For example: \"Hello [name], you are [age] years old and live in [location].\"\n",
    "print(f\"Hello {name}, you are {age} years old and live in {location}.\")\n"
   ]
  },
  {
   "cell_type": "code",
   "execution_count": null,
   "id": "ad25b161",
   "metadata": {},
   "outputs": [],
   "source": []
  }
 ],
 "metadata": {
  "kernelspec": {
   "display_name": "Python 3 (ipykernel)",
   "language": "python",
   "name": "python3"
  },
  "language_info": {
   "codemirror_mode": {
    "name": "ipython",
    "version": 3
   },
   "file_extension": ".py",
   "mimetype": "text/x-python",
   "name": "python",
   "nbconvert_exporter": "python",
   "pygments_lexer": "ipython3",
   "version": "3.11.5"
  },
  "varInspector": {
   "cols": {
    "lenName": 16,
    "lenType": 16,
    "lenVar": 40
   },
   "kernels_config": {
    "python": {
     "delete_cmd_postfix": "",
     "delete_cmd_prefix": "del ",
     "library": "var_list.py",
     "varRefreshCmd": "print(var_dic_list())"
    },
    "r": {
     "delete_cmd_postfix": ") ",
     "delete_cmd_prefix": "rm(",
     "library": "var_list.r",
     "varRefreshCmd": "cat(var_dic_list()) "
    }
   },
   "types_to_exclude": [
    "module",
    "function",
    "builtin_function_or_method",
    "instance",
    "_Feature"
   ],
   "window_display": false
  }
 },
 "nbformat": 4,
 "nbformat_minor": 5
}
